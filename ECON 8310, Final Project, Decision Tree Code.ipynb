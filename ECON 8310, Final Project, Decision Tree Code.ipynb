{
  "nbformat": 4,
  "nbformat_minor": 0,
  "metadata": {
    "colab": {
      "provenance": []
    },
    "kernelspec": {
      "name": "python3",
      "display_name": "Python 3"
    },
    "language_info": {
      "name": "python"
    }
  },
  "cells": [
    {
      "cell_type": "code",
      "execution_count": 22,
      "metadata": {
        "id": "-N-BVVpQ0jCp"
      },
      "outputs": [],
      "source": [
        "#importing library\n",
        "import pandas as pd\n",
        "import numpy as np\n",
        "import patsy as pt\n",
        "import matplotlib.pyplot as plt\n",
        "\n",
        "from sklearn.tree import DecisionTreeClassifier, export_graphviz\n",
        "from sklearn.metrics import accuracy_score\n",
        "from sklearn.model_selection import train_test_split\n",
        "from sklearn import tree\n",
        "from sklearn.datasets import load_iris\n",
        "import pydotplus\n",
        "from PIL import Image"
      ]
    },
    {
      "cell_type": "code",
      "source": [
        "#grabbing the data from our project repository\n",
        "decision_tree = pd.read_csv(\"https://raw.githubusercontent.com/stone-rose32/econ-8310-final-project/refs/heads/main/category_decision_tree.csv\")"
      ],
      "metadata": {
        "id": "4N6DXCJi49fU"
      },
      "execution_count": 43,
      "outputs": []
    },
    {
      "cell_type": "code",
      "source": [
        "#These are the categories we are interested in for the decision tree\n",
        "category_decision = decision_tree[['MORE_THAN_AVERAGE',\"HAS_PURCHASED_MOTHERBOARD\", \"HAS_PURCHASED_GOLF_BAG\", \"HAS_PURCHASED_TOYS_AND_GAMES\", \"HAS_PURCHASED_SUGAR_CANDY\", \"HAS_PURCHASED_SKATEBOARD\", \"HAS_PURCHASED_GAMES\", \"HAS_PURCHASED_AMAZON_BOOK_READER\", \"HAS_PURCHASED_WEARABLE_COMPUTER\", \"HAS_PURCHASED_PET_SUPPLIES\", \"HAS_PURCHASED_SPORTING_GOODS\", \"HAS_PURCHASED_ABIS_BOOK\", \"HAS_PURCHASED_HEADPHONES\", \"HAS_PURCHASED_PHYSICAL_VIDEO_GAME_SOFTWARE\", \"HAS_PURCHASED_SNACK_CHIP_AND_CRISP\", \"HAS_PURCHASED_DOWNLOADABLE_VIDEO_GAME\", \"HAS_PURCHASED_OUTDOOR_LIVING\", \"HAS_PURCHASED_COOKIE\", \"HAS_PURCHASED_MEAT\", \"HAS_PURCHASED_SWIMWEAR\", \"HAS_PURCHASED_FOOD_STORAGE_CONTAINER\", \"HAS_PURCHASED_MASSAGER\", \"HAS_PURCHASED_WEIGH_SCALE\", \"HAS_PURCHASED_SPEAKERS\", \"HAS_PURCHASED_PLANNER\", \"HAS_PURCHASED_INSTRUMENT_PARTS_AND_ACCESSORIES\", \"HAS_PURCHASED_MEDICATION\", \"HAS_PURCHASED_VEGETABLE\", \"HAS_PURCHASED_VITAMIN\", \"HAS_PURCHASED_PET_FOOD\", \"HAS_PURCHASED_SKIN_MOISTURIZER\", \"HAS_PURCHASED_COFFEE\", \"HAS_PURCHASED_PHYSICAL_MOVIE\", \"HAS_PURCHASED_NUTRITIONAL_SUPPLEMENT\", \"HAS_PURCHASED_SKIN_CLEANING_AGENT\", \"HAS_PURCHASED_HERBAL_SUPPLEMENT\", \"HAS_PURCHASED_MINERAL_SUPPLEMENT\", \"HAS_PURCHASED_PROTEIN_DRINK\", \"HAS_PURCHASED_PROTEIN_SUPPLEMENT_POWDER\", \"HAS_PURCHASED_DIETARY_SUPPLEMENTS\", \"HAS_PURCHASED_ABIS_SPORTS\", \"HAS_PURCHASED_HEALTH_FOOD\", \"HAS_PURCHASED_SPORTS_DRINK\"]]\n",
        "\n",
        "#using patsy for the decision tree ease\n",
        "y, x = pt.dmatrices(\"MORE_THAN_AVERAGE ~ -1 + HAS_PURCHASED_MOTHERBOARD + HAS_PURCHASED_GOLF_BAG + HAS_PURCHASED_TOYS_AND_GAMES + HAS_PURCHASED_SUGAR_CANDY + HAS_PURCHASED_SKATEBOARD + HAS_PURCHASED_GAMES + HAS_PURCHASED_AMAZON_BOOK_READER + HAS_PURCHASED_WEARABLE_COMPUTER + HAS_PURCHASED_PET_SUPPLIES + HAS_PURCHASED_SPORTING_GOODS + HAS_PURCHASED_ABIS_BOOK + HAS_PURCHASED_HEADPHONES + HAS_PURCHASED_PHYSICAL_VIDEO_GAME_SOFTWARE + HAS_PURCHASED_SNACK_CHIP_AND_CRISP + HAS_PURCHASED_DOWNLOADABLE_VIDEO_GAME + HAS_PURCHASED_OUTDOOR_LIVING + HAS_PURCHASED_COOKIE + HAS_PURCHASED_MEAT + HAS_PURCHASED_SWIMWEAR + HAS_PURCHASED_FOOD_STORAGE_CONTAINER + HAS_PURCHASED_MASSAGER + HAS_PURCHASED_WEIGH_SCALE + HAS_PURCHASED_SPEAKERS + HAS_PURCHASED_PLANNER + HAS_PURCHASED_INSTRUMENT_PARTS_AND_ACCESSORIES + HAS_PURCHASED_MEDICATION + HAS_PURCHASED_VEGETABLE + HAS_PURCHASED_VITAMIN + HAS_PURCHASED_PET_FOOD + HAS_PURCHASED_SKIN_MOISTURIZER + HAS_PURCHASED_COFFEE + HAS_PURCHASED_PHYSICAL_MOVIE + HAS_PURCHASED_NUTRITIONAL_SUPPLEMENT + HAS_PURCHASED_SKIN_CLEANING_AGENT + HAS_PURCHASED_HERBAL_SUPPLEMENT + HAS_PURCHASED_MINERAL_SUPPLEMENT + HAS_PURCHASED_PROTEIN_DRINK + HAS_PURCHASED_PROTEIN_SUPPLEMENT_POWDER + HAS_PURCHASED_DIETARY_SUPPLEMENTS + HAS_PURCHASED_ABIS_SPORTS + HAS_PURCHASED_HEALTH_FOOD + HAS_PURCHASED_SPORTS_DRINK\", data=category_decision)\n",
        "\n",
        "#creating the decision tree model with depth 5 and test size 30%\n",
        "model = DecisionTreeClassifier(max_depth = 5)\n",
        "x, xt, y, yt = train_test_split(x, y, test_size=0.3, random_state=42)\n",
        "\n",
        "#fitting the model\n",
        "model = model.fit(x,y)\n",
        "\n",
        "#looking at the accuracy score\n",
        "print(\"\\n\\nIn-sample accuracy: %s%%\\n\\n\" % str(round(100*accuracy_score(y, model.predict(x)), 2)))"
      ],
      "metadata": {
        "colab": {
          "base_uri": "https://localhost:8080/"
        },
        "id": "E8iYMXwI4oN2",
        "outputId": "2ea86508-9fc6-4fa8-ac9a-87e073731be2"
      },
      "execution_count": 44,
      "outputs": [
        {
          "output_type": "stream",
          "name": "stdout",
          "text": [
            "\n",
            "\n",
            "In-sample accuracy: 80.61%\n",
            "\n",
            "\n"
          ]
        }
      ]
    },
    {
      "cell_type": "code",
      "source": [
        "#these are the columns we used and this will label the decision tree\n",
        "features = [\"HAS_PURCHASED_MOTHERBOARD\", \"HAS_PURCHASED_GOLF_BAG\", \"HAS_PURCHASED_TOYS_AND_GAMES\", \"HAS_PURCHASED_SUGAR_CANDY\", \"HAS_PURCHASED_SKATEBOARD\", \"HAS_PURCHASED_GAMES\", \"HAS_PURCHASED_AMAZON_BOOK_READER\", \"HAS_PURCHASED_WEARABLE_COMPUTER\", \"HAS_PURCHASED_PET_SUPPLIES\", \"HAS_PURCHASED_SPORTING_GOODS\", \"HAS_PURCHASED_ABIS_BOOK\", \"HAS_PURCHASED_HEADPHONES\", \"HAS_PURCHASED_PHYSICAL_VIDEO_GAME_SOFTWARE\", \"HAS_PURCHASED_SNACK_CHIP_AND_CRISP\", \"HAS_PURCHASED_DOWNLOADABLE_VIDEO_GAME\", \"HAS_PURCHASED_OUTDOOR_LIVING\", \"HAS_PURCHASED_COOKIE\", \"HAS_PURCHASED_MEAT\", \"HAS_PURCHASED_SWIMWEAR\", \"HAS_PURCHASED_FOOD_STORAGE_CONTAINER\", \"HAS_PURCHASED_MASSAGER\", \"HAS_PURCHASED_WEIGH_SCALE\", \"HAS_PURCHASED_SPEAKERS\", \"HAS_PURCHASED_PLANNER\", \"HAS_PURCHASED_INSTRUMENT_PARTS_AND_ACCESSORIES\", \"HAS_PURCHASED_MEDICATION\", \"HAS_PURCHASED_VEGETABLE\", \"HAS_PURCHASED_VITAMIN\", \"HAS_PURCHASED_PET_FOOD\", \"HAS_PURCHASED_SKIN_MOISTURIZER\", \"HAS_PURCHASED_COFFEE\", \"HAS_PURCHASED_PHYSICAL_MOVIE\", \"HAS_PURCHASED_NUTRITIONAL_SUPPLEMENT\", \"HAS_PURCHASED_SKIN_CLEANING_AGENT\", \"HAS_PURCHASED_HERBAL_SUPPLEMENT\", \"HAS_PURCHASED_MINERAL_SUPPLEMENT\", \"HAS_PURCHASED_PROTEIN_DRINK\", \"HAS_PURCHASED_PROTEIN_SUPPLEMENT_POWDER\", \"HAS_PURCHASED_DIETARY_SUPPLEMENTS\", \"HAS_PURCHASED_ABIS_SPORTS\", \"HAS_PURCHASED_HEALTH_FOOD\", \"HAS_PURCHASED_SPORTS_DRINK\"]\n",
        "\n",
        "#creating the decision tree in order to export it as a png\n",
        "dot_data = export_graphviz(model, out_file=None,\n",
        "                               feature_names=features,\n",
        "                               filled=True, rounded=True,\n",
        "                               special_characters=True, rotate = True)\n",
        "\n",
        "#download the file as png\n",
        "graph = pydotplus.graph_from_dot_data(dot_data)\n",
        "graph.write_png(\"decision_tree.png\")\n"
      ],
      "metadata": {
        "colab": {
          "base_uri": "https://localhost:8080/"
        },
        "id": "mBPNS6u36J_A",
        "outputId": "b1bb1901-abd6-4b66-8ee3-416c6a834f31"
      },
      "execution_count": 45,
      "outputs": [
        {
          "output_type": "execute_result",
          "data": {
            "text/plain": [
              "True"
            ]
          },
          "metadata": {},
          "execution_count": 45
        }
      ]
    }
  ]
}